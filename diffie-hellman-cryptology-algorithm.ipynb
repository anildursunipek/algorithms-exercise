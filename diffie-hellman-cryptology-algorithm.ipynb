{
 "cells": [
  {
   "cell_type": "code",
   "execution_count": 18,
   "id": "b9a4019c",
   "metadata": {},
   "outputs": [],
   "source": [
    "import random"
   ]
  },
  {
   "cell_type": "code",
   "execution_count": 19,
   "id": "76f415e1",
   "metadata": {},
   "outputs": [],
   "source": [
    "def is_prime(value):\n",
    "    for i in range(2, (value // 2) + 1):\n",
    "        if(value % i == 0):\n",
    "            return False\n",
    "    return True\n",
    "\n",
    "def generate_prime_number(min_value, max_value):\n",
    "    rand_number = random.randint(min_value, max_value)\n",
    "    while is_prime(rand_number) != True:\n",
    "        rand_number = random.randint(min_value, max_value)\n",
    "    return rand_number\n",
    "\n",
    "def generate_public_key(a, p, g):\n",
    "    return pow(g, a, p)\n",
    "\n",
    "def decode_public_key(others_key, a, p):\n",
    "    return pow(others_key, a, p)\n",
    "\n",
    "def encrypt_message(message_in, secret_key):\n",
    "    string_as_num = [ord(ch) * secret_key for ch in message_in]\n",
    "    return string_as_num\n",
    "\n",
    "def decrypt_message(encrypted_message, secret_key):\n",
    "    encrypted_data = [data // secret_key for data in encrypted_message]\n",
    "    return encrypted_data\n",
    "\n",
    "def show_message(decrypted_message):\n",
    "    return \"\".join([chr(ch) for ch in decrypted_message])"
   ]
  },
  {
   "cell_type": "code",
   "execution_count": 20,
   "id": "0746a5ea",
   "metadata": {},
   "outputs": [],
   "source": [
    "# generate modulus and base values\n",
    "p = generate_prime_number(2000,6000) # Modulus\n",
    "g = generate_prime_number(500,1000) # Base"
   ]
  },
  {
   "cell_type": "code",
   "execution_count": 21,
   "id": "29b98530",
   "metadata": {},
   "outputs": [
    {
     "name": "stdout",
     "output_type": "stream",
     "text": [
      "Modulus:  5431 \n",
      "Base:  571\n"
     ]
    }
   ],
   "source": [
    "print(\"Modulus: \", p,\n",
    "     \"\\nBase: \", g)"
   ]
  },
  {
   "cell_type": "code",
   "execution_count": 22,
   "id": "6d98dd4e",
   "metadata": {},
   "outputs": [],
   "source": [
    "# Set user 1's secret key and public key\n",
    "a1 = generate_prime_number(1000, 3000) # secret key\n",
    "r1 = generate_public_key(a1, p, g) # public key"
   ]
  },
  {
   "cell_type": "code",
   "execution_count": 23,
   "id": "c5fd732d",
   "metadata": {},
   "outputs": [
    {
     "name": "stdout",
     "output_type": "stream",
     "text": [
      "First user secret key:  2437 \n",
      "First user public key:  1694\n"
     ]
    }
   ],
   "source": [
    "print(\"First user secret key: \", a1,\n",
    "     \"\\nFirst user public key: \", r1)"
   ]
  },
  {
   "cell_type": "code",
   "execution_count": 24,
   "id": "c3c2dd5b",
   "metadata": {},
   "outputs": [],
   "source": [
    "# Set user 2's secret key and public key\n",
    "a2 = generate_prime_number(1000, 3000) # secret key\n",
    "r2 = generate_public_key(a2, p, g) # public key"
   ]
  },
  {
   "cell_type": "code",
   "execution_count": 25,
   "id": "bde3a0e6",
   "metadata": {},
   "outputs": [
    {
     "name": "stdout",
     "output_type": "stream",
     "text": [
      "Second user secret key:  2999 \n",
      "Second user public key:  3587\n"
     ]
    }
   ],
   "source": [
    "print(\"Second user secret key: \", a2,\n",
    "     \"\\nSecond user public key: \", r2)"
   ]
  },
  {
   "cell_type": "code",
   "execution_count": 26,
   "id": "1b03d892",
   "metadata": {},
   "outputs": [],
   "source": [
    "user1_key = decode_public_key(r2, a1, p)\n",
    "user2_key = decode_public_key(r1, a2, p)"
   ]
  },
  {
   "cell_type": "code",
   "execution_count": 27,
   "id": "38886dac",
   "metadata": {},
   "outputs": [
    {
     "name": "stdout",
     "output_type": "stream",
     "text": [
      "User 1 key:  1104 \n",
      "User 2 key:  1104\n"
     ]
    }
   ],
   "source": [
    "print(\"User 1 key: \", user1_key,\n",
    "     \"\\nUser 2 key: \", user2_key)"
   ]
  },
  {
   "cell_type": "code",
   "execution_count": 28,
   "id": "daf51192",
   "metadata": {},
   "outputs": [
    {
     "name": "stdout",
     "output_type": "stream",
     "text": [
      "Sending user 2 the encrypted data of user 1:\n",
      "{'modulo': 5431, 'public key of sender': 1694, 'data': [79488, 111504, 119232, 119232, 122544, 35328, 129168, 126960, 111504, 125856, 35328, 128064, 131376, 122544, 48576, 35328, 128064, 114816, 115920, 126960, 35328, 115920, 126960, 35328, 129168, 126960, 111504, 125856, 35328, 122544, 121440, 111504, 50784]}\n",
      "\n",
      "Decrypting User 1's message:\n",
      "[72, 101, 108, 108, 111, 32, 117, 115, 101, 114, 32, 116, 119, 111, 44, 32, 116, 104, 105, 115, 32, 105, 115, 32, 117, 115, 101, 114, 32, 111, 110, 101, 46]\n",
      "\n",
      "Show message:  Hello user two, this is user one.\n"
     ]
    }
   ],
   "source": [
    "if user1_key == user2_key:\n",
    "    # User 1 - Encrypt and send message to user 2\n",
    "    data1_in = \"Hello user two, this is user one.\" # Secret message\n",
    "    data_encrypted1 = encrypt_message(data1_in, user1_key) # Encrypts message using key\n",
    "    data1 = {\"modulo\": p, \"public key of sender\": r1, \"data\": data_encrypted1} # Sets up data packet to send\n",
    "    print(f\"Sending user 2 the encrypted data of user 1:\\n{data1}\\n\")\n",
    "    \n",
    "    # User 2 - Recieves the message from user 1 and decrypts it\n",
    "    data_in = data1\n",
    "    p_in = data_in[\"modulo\"]\n",
    "    r_in = data_in[\"public key of sender\"]\n",
    "    data_rec2 = data_in[\"data\"]\n",
    "    decrypted_message = decrypt_message(data_rec2, decode_public_key(r_in, a2, p_in))\n",
    "    print(f\"Decrypting User 1's message:\\n{decrypted_message}\\n\")\n",
    "    print(\"Show message: \", show_message(decrypted_message))\n",
    "else:\n",
    "    raise Exception(\"Incorrect keys\")"
   ]
  }
 ],
 "metadata": {
  "kernelspec": {
   "display_name": "Python 3 (ipykernel)",
   "language": "python",
   "name": "python3"
  },
  "language_info": {
   "codemirror_mode": {
    "name": "ipython",
    "version": 3
   },
   "file_extension": ".py",
   "mimetype": "text/x-python",
   "name": "python",
   "nbconvert_exporter": "python",
   "pygments_lexer": "ipython3",
   "version": "3.9.11"
  }
 },
 "nbformat": 4,
 "nbformat_minor": 5
}
