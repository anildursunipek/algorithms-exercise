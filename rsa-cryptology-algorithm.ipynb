{
 "cells": [
  {
   "cell_type": "code",
   "execution_count": 49,
   "id": "1092d365",
   "metadata": {},
   "outputs": [],
   "source": [
    "import random\n",
    "import math"
   ]
  },
  {
   "cell_type": "markdown",
   "id": "87e3278d",
   "metadata": {},
   "source": [
    "## The RSA algorithm (Rivest-Shamir-Adleman) from Scratch"
   ]
  },
  {
   "cell_type": "code",
   "execution_count": 50,
   "id": "79c0dca8",
   "metadata": {},
   "outputs": [],
   "source": [
    "def is_prime(number):\n",
    "    \"It returns value -> True or False\"\n",
    "    if number < 2:\n",
    "        return False\n",
    "    for i in range(2, (number // 2) + 1):\n",
    "        if number % i == 0:\n",
    "            return False\n",
    "    return True"
   ]
  },
  {
   "cell_type": "code",
   "execution_count": 51,
   "id": "a56abc4f",
   "metadata": {},
   "outputs": [],
   "source": [
    "def generate_prime(min_value, max_value):\n",
    "    \"It generates random prime number between min_value to max_value\"\n",
    "    prime = random.randint(min_value, max_value)\n",
    "    while not is_prime(prime):\n",
    "        prime = random.randint(min_value, max_value)\n",
    "    return prime"
   ]
  },
  {
   "cell_type": "code",
   "execution_count": 52,
   "id": "50bebee2",
   "metadata": {},
   "outputs": [
    {
     "data": {
      "text/plain": [
       "2711"
      ]
     },
     "execution_count": 52,
     "metadata": {},
     "output_type": "execute_result"
    }
   ],
   "source": [
    "generate_prime(1000,5000)"
   ]
  },
  {
   "cell_type": "code",
   "execution_count": 53,
   "id": "bc4cb0a8",
   "metadata": {},
   "outputs": [],
   "source": [
    "def greatest_common_diviser(m,n):\n",
    "    if(n == 0):\n",
    "        return m\n",
    "    temp = m % n\n",
    "    m = n\n",
    "    n = temp\n",
    "    return greatest_common_diviser(m,n)"
   ]
  },
  {
   "cell_type": "code",
   "execution_count": 54,
   "id": "4652ab7b",
   "metadata": {},
   "outputs": [],
   "source": [
    "def mod_inverse(e, phi):\n",
    "    \"\"\"\n",
    "    e public key\n",
    "    d -> private key\n",
    "    e * d = 1 mod n\n",
    "    this function returns the private key which is suitable\n",
    "    \"\"\"\n",
    "    for d in range(3, phi):\n",
    "        if((e*d) % phi == 1):\n",
    "            return d\n",
    "    raise ValueError(\"mod_inverse does not exist\")"
   ]
  },
  {
   "cell_type": "code",
   "execution_count": 55,
   "id": "777e72ba",
   "metadata": {},
   "outputs": [],
   "source": [
    "# p and q enable the encryption environment to be prepared.\n",
    "p, q = generate_prime(1000,5000), generate_prime(1000,5000)\n",
    "while p == q:\n",
    "    q = generate_prime(1000,5000)"
   ]
  },
  {
   "cell_type": "code",
   "execution_count": 56,
   "id": "a5477537",
   "metadata": {},
   "outputs": [
    {
     "name": "stdout",
     "output_type": "stream",
     "text": [
      "p value: 2477  | q value: 1277\n"
     ]
    }
   ],
   "source": [
    "print(\"p value:\", p, \" | q value:\", q)"
   ]
  },
  {
   "cell_type": "code",
   "execution_count": 57,
   "id": "882f91f7",
   "metadata": {},
   "outputs": [],
   "source": [
    "n = p * q\n",
    "# phi -> euler's totient function. phi_n = (p-1) * (q-1) if p and q are prime number\n",
    "phi_n = (p-1) * (q-1)"
   ]
  },
  {
   "cell_type": "code",
   "execution_count": 58,
   "id": "4d3036ea",
   "metadata": {},
   "outputs": [],
   "source": [
    "\"\"\"\n",
    "e -> public key\n",
    "2 < e < phi_n and gdc(e, phi_n) = 1\n",
    "\"\"\"\n",
    "def generate_public_key(phi_n):\n",
    "    public_key = random.randint(3, phi_n-1)\n",
    "    while greatest_common_diviser(e, phi_n) != 1:\n",
    "        public_key = random.randint(3, phi_n-1)\n",
    "    return public_key"
   ]
  },
  {
   "cell_type": "code",
   "execution_count": 59,
   "id": "859665e7",
   "metadata": {},
   "outputs": [],
   "source": [
    "e = generate_public_key(phi_n) # generate public key here\n",
    "d = mod_inverse(e, phi_n) # generate private key here"
   ]
  },
  {
   "cell_type": "code",
   "execution_count": 60,
   "id": "3006faa9",
   "metadata": {},
   "outputs": [
    {
     "name": "stdout",
     "output_type": "stream",
     "text": [
      "\n",
      "p:  2477 \n",
      "q:  1277 \n",
      "n:  3163129 \n",
      "Phi_n:  3159376 \n",
      "Public Key:  171159 \n",
      "Private Key: 2452647\n"
     ]
    }
   ],
   "source": [
    "print(\"\\np: \", p,\n",
    "      \"\\nq: \", q,\n",
    "      \"\\nn: \", n,\n",
    "      \"\\nPhi_n: \", phi_n, \n",
    "      \"\\nPublic Key: \", e, \n",
    "      \"\\nPrivate Key:\", d)"
   ]
  },
  {
   "cell_type": "code",
   "execution_count": 61,
   "id": "77eacf02",
   "metadata": {},
   "outputs": [
    {
     "data": {
      "text/plain": [
       "113"
      ]
     },
     "execution_count": 61,
     "metadata": {},
     "output_type": "execute_result"
    }
   ],
   "source": [
    "# It returns the ascii code of the entered parameter.\n",
    "ord(\"q\")"
   ]
  },
  {
   "cell_type": "code",
   "execution_count": 62,
   "id": "2326df5f",
   "metadata": {},
   "outputs": [],
   "source": [
    "# Encode the message\n",
    "message = \"Algorithm Analysis Project\"\n",
    "message_encoded = [ord(c) for c in message]"
   ]
  },
  {
   "cell_type": "code",
   "execution_count": 63,
   "id": "1b7b12cd",
   "metadata": {},
   "outputs": [
    {
     "name": "stdout",
     "output_type": "stream",
     "text": [
      "Message:  Algorithm Analysis Project \n",
      "Message Encoded:  [65, 108, 103, 111, 114, 105, 116, 104, 109, 32, 65, 110, 97, 108, 121, 115, 105, 115, 32, 80, 114, 111, 106, 101, 99, 116]\n"
     ]
    }
   ],
   "source": [
    "print(\"Message: \", message,\n",
    "     \"\\nMessage Encoded: \", message_encoded)"
   ]
  },
  {
   "cell_type": "code",
   "execution_count": 64,
   "id": "ecaee545",
   "metadata": {},
   "outputs": [],
   "source": [
    "# Crypte the encoded message\n",
    "# (m^public_key) mod n = ciphertext\n",
    "ciphertext = [pow(ch, e, n) for ch in message_encoded] #pow(character, e, n) -> (character ^ e) %n\n"
   ]
  },
  {
   "cell_type": "code",
   "execution_count": 65,
   "id": "740b7406",
   "metadata": {},
   "outputs": [
    {
     "name": "stdout",
     "output_type": "stream",
     "text": [
      "Crypted text:  [1025862, 1061379, 1952302, 2723104, 1594701, 1707421, 113678, 1864463, 1548306, 2527572, 1025862, 2832803, 2344669, 1061379, 1253068, 293410, 1707421, 293410, 2527572, 767811, 1594701, 2723104, 2230372, 1235427, 2305854, 113678]\n"
     ]
    }
   ],
   "source": [
    "print(\"Crypted text: \", ciphertext)"
   ]
  },
  {
   "cell_type": "code",
   "execution_count": 66,
   "id": "6fc63955",
   "metadata": {},
   "outputs": [],
   "source": [
    "# Decrypte the encrypted message\n",
    "# decrypte -> (m ^ private_key) % n\n",
    "message_decrypte = [pow(ch, d, n) for ch in ciphertext]\n",
    "# Decode the message\n",
    "message_decode = \"\".join(chr(ch) for ch in message_decrypte)"
   ]
  },
  {
   "cell_type": "code",
   "execution_count": 67,
   "id": "fd458d03",
   "metadata": {},
   "outputs": [
    {
     "name": "stdout",
     "output_type": "stream",
     "text": [
      "Decrypted message:  [65, 108, 103, 111, 114, 105, 116, 104, 109, 32, 65, 110, 97, 108, 121, 115, 105, 115, 32, 80, 114, 111, 106, 101, 99, 116] \n",
      "Decoded Message:,  Algorithm Analysis Project\n"
     ]
    }
   ],
   "source": [
    "print(\"Decrypted message: \", message_decrypte,\n",
    "     \"\\nDecoded Message:, \", message_decode)"
   ]
  }
 ],
 "metadata": {
  "kernelspec": {
   "display_name": "Python 3 (ipykernel)",
   "language": "python",
   "name": "python3"
  },
  "language_info": {
   "codemirror_mode": {
    "name": "ipython",
    "version": 3
   },
   "file_extension": ".py",
   "mimetype": "text/x-python",
   "name": "python",
   "nbconvert_exporter": "python",
   "pygments_lexer": "ipython3",
   "version": "3.9.11"
  }
 },
 "nbformat": 4,
 "nbformat_minor": 5
}
